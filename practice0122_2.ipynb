{
  "nbformat": 4,
  "nbformat_minor": 0,
  "metadata": {
    "colab": {
      "provenance": []
    },
    "kernelspec": {
      "name": "python3",
      "display_name": "Python 3"
    },
    "language_info": {
      "name": "python"
    }
  },
  "cells": [
    {
      "cell_type": "code",
      "execution_count": null,
      "metadata": {
        "colab": {
          "base_uri": "https://localhost:8080/"
        },
        "id": "KZs6ioi5yZ6M",
        "outputId": "edd1314b-29a0-4ebc-bda7-24ce9c0a2966"
      },
      "outputs": [
        {
          "output_type": "stream",
          "name": "stdout",
          "text": [
            "Mounted at /content/gdrive\n"
          ]
        }
      ],
      "source": [
        "import pandas as pd\n",
        "import numpy as np\n",
        "\n",
        "from google.colab import drive\n",
        "\n",
        "drive.mount('/content/gdrive')"
      ]
    },
    {
      "cell_type": "code",
      "source": [
        "df = pd.read_csv('/content/gdrive/MyDrive/data/P220502.csv')"
      ],
      "metadata": {
        "id": "cqiaPcW2yteN"
      },
      "execution_count": null,
      "outputs": []
    },
    {
      "cell_type": "code",
      "source": [
        "df['bmi'] = df['Weight'] / ((df['Height']/100)**2)"
      ],
      "metadata": {
        "id": "bFyvYTshyyJf"
      },
      "execution_count": null,
      "outputs": []
    },
    {
      "cell_type": "code",
      "source": [
        "normal = df[(df['bmi'] >=18.5) & (df['bmi']<23)]\n",
        "over = df[(df['bmi'] >=23) & (df['bmi']<25)]\n",
        "\n",
        "print(int(len(normal) - len(over)))"
      ],
      "metadata": {
        "colab": {
          "base_uri": "https://localhost:8080/"
        },
        "id": "yM9M7HMdzhbo",
        "outputId": "dccbf038-268e-4be5-97a7-acc0151a8aea"
      },
      "execution_count": null,
      "outputs": [
        {
          "output_type": "stream",
          "name": "stdout",
          "text": [
            "28\n"
          ]
        }
      ]
    },
    {
      "cell_type": "code",
      "source": [],
      "metadata": {
        "colab": {
          "base_uri": "https://localhost:8080/"
        },
        "id": "BV6a51kP0Bk-",
        "outputId": "a803bb8d-fd95-4d31-e8fa-5a9a824d6d2d"
      },
      "execution_count": null,
      "outputs": [
        {
          "output_type": "stream",
          "name": "stdout",
          "text": [
            "   Gender  Height  Weight  Index        bmi\n",
            "0    Male     174      96      4  31.708284\n",
            "1    Male     189      87      2  24.355421\n",
            "2  Female     185     110      4  32.140248\n",
            "3  Female     195     104      3  27.350427\n",
            "4    Male     149      61      3  27.476240\n"
          ]
        }
      ]
    }
  ]
}