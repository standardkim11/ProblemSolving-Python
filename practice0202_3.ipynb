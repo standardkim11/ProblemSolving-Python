{
  "nbformat": 4,
  "nbformat_minor": 0,
  "metadata": {
    "colab": {
      "provenance": []
    },
    "kernelspec": {
      "name": "python3",
      "display_name": "Python 3"
    },
    "language_info": {
      "name": "python"
    }
  },
  "cells": [
    {
      "cell_type": "code",
      "execution_count": 1,
      "metadata": {
        "id": "vlOLgGWhvikJ"
      },
      "outputs": [],
      "source": [
        "import pandas as pd\n",
        "from scipy.stats import ttest_rel"
      ]
    },
    {
      "cell_type": "code",
      "source": [
        "df = pd.DataFrame({'before':[200,210,190,180,175], 'after':[180,175,160,150,160]})"
      ],
      "metadata": {
        "id": "N0oNTnoSwmSq"
      },
      "execution_count": 2,
      "outputs": []
    },
    {
      "cell_type": "code",
      "source": [
        "print(df)"
      ],
      "metadata": {
        "colab": {
          "base_uri": "https://localhost:8080/"
        },
        "id": "Y6ApJtT7wyxq",
        "outputId": "001a1111-4e99-4679-9096-05568d2c5d90"
      },
      "execution_count": 3,
      "outputs": [
        {
          "output_type": "stream",
          "name": "stdout",
          "text": [
            "   before  after\n",
            "0     200    180\n",
            "1     210    175\n",
            "2     190    160\n",
            "3     180    150\n",
            "4     175    160\n"
          ]
        }
      ]
    },
    {
      "cell_type": "code",
      "source": [
        "result = ttest_rel(df['after'],df['before'], alternative= 'less')"
      ],
      "metadata": {
        "id": "o4TqF_yTw0gy"
      },
      "execution_count": 4,
      "outputs": []
    },
    {
      "cell_type": "code",
      "source": [
        "print(result)"
      ],
      "metadata": {
        "colab": {
          "base_uri": "https://localhost:8080/"
        },
        "id": "1CcuJKXew7oL",
        "outputId": "fe15a55e-1e6e-4338-d241-fda27b5a6c51"
      },
      "execution_count": 5,
      "outputs": [
        {
          "output_type": "stream",
          "name": "stdout",
          "text": [
            "TtestResult(statistic=-7.076303701373625, pvalue=0.0010523957839292206, df=4)\n"
          ]
        }
      ]
    },
    {
      "cell_type": "code",
      "source": [
        "n1 = round(result.statistic,4)\n",
        "print(float(n1))"
      ],
      "metadata": {
        "colab": {
          "base_uri": "https://localhost:8080/"
        },
        "id": "8rJ_w8vTw9ng",
        "outputId": "50b25437-f794-4861-adcc-c365668bddfd"
      },
      "execution_count": 8,
      "outputs": [
        {
          "output_type": "stream",
          "name": "stdout",
          "text": [
            "-7.0763\n"
          ]
        }
      ]
    },
    {
      "cell_type": "code",
      "source": [
        "n2 = round(result.pvalue,5)\n",
        "print(float(n2))"
      ],
      "metadata": {
        "colab": {
          "base_uri": "https://localhost:8080/"
        },
        "id": "wwi-8MsSxGzp",
        "outputId": "56fdbabe-f879-49d6-96f0-976dbafe8eba"
      },
      "execution_count": 9,
      "outputs": [
        {
          "output_type": "stream",
          "name": "stdout",
          "text": [
            "0.00105\n"
          ]
        }
      ]
    },
    {
      "cell_type": "code",
      "source": [
        "n3 = \"기각\" if n2 < 0.05 else \"채택\"\n",
        "print(n3)"
      ],
      "metadata": {
        "colab": {
          "base_uri": "https://localhost:8080/"
        },
        "id": "ARn873UFxUNJ",
        "outputId": "02e23fc9-ec92-45f7-acc4-77fc11386078"
      },
      "execution_count": 11,
      "outputs": [
        {
          "output_type": "stream",
          "name": "stdout",
          "text": [
            "기각\n"
          ]
        }
      ]
    }
  ]
}