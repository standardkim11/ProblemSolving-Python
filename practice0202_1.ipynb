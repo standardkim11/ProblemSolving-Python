{
  "nbformat": 4,
  "nbformat_minor": 0,
  "metadata": {
    "colab": {
      "provenance": []
    },
    "kernelspec": {
      "name": "python3",
      "display_name": "Python 3"
    },
    "language_info": {
      "name": "python"
    }
  },
  "cells": [
    {
      "cell_type": "markdown",
      "source": [
        "1-1"
      ],
      "metadata": {
        "id": "HkDUkwObmot6"
      }
    },
    {
      "cell_type": "code",
      "execution_count": 1,
      "metadata": {
        "colab": {
          "base_uri": "https://localhost:8080/"
        },
        "id": "RAtYHd_Lj6vl",
        "outputId": "306f3ab8-2f6b-4aae-bebe-d47caca80f0d"
      },
      "outputs": [
        {
          "output_type": "stream",
          "name": "stdout",
          "text": [
            "Mounted at /content/gdrive\n"
          ]
        }
      ],
      "source": [
        "import pandas as pd\n",
        "import numpy as np\n",
        "\n",
        "from google.colab import drive\n",
        "\n",
        "drive.mount('/content/gdrive')"
      ]
    },
    {
      "cell_type": "code",
      "source": [
        "df = pd.read_csv('/content/gdrive/MyDrive/data/M1-1.csv')"
      ],
      "metadata": {
        "id": "STCP_YBDkvXK"
      },
      "execution_count": 2,
      "outputs": []
    },
    {
      "cell_type": "code",
      "source": [
        "print(df.info())"
      ],
      "metadata": {
        "colab": {
          "base_uri": "https://localhost:8080/"
        },
        "id": "TwPEHFO1k4dF",
        "outputId": "d0a6f0f1-3444-4a6b-8849-f45d0b20015d"
      },
      "execution_count": 3,
      "outputs": [
        {
          "output_type": "stream",
          "name": "stdout",
          "text": [
            "<class 'pandas.core.frame.DataFrame'>\n",
            "RangeIndex: 53940 entries, 0 to 53939\n",
            "Data columns (total 10 columns):\n",
            " #   Column   Non-Null Count  Dtype  \n",
            "---  ------   --------------  -----  \n",
            " 0   carat    53940 non-null  float64\n",
            " 1   cut      53940 non-null  object \n",
            " 2   color    53940 non-null  object \n",
            " 3   clarity  53940 non-null  object \n",
            " 4   depth    53940 non-null  float64\n",
            " 5   table    53940 non-null  float64\n",
            " 6   price    53940 non-null  int64  \n",
            " 7   x        53940 non-null  float64\n",
            " 8   y        53940 non-null  float64\n",
            " 9   z        53940 non-null  float64\n",
            "dtypes: float64(6), int64(1), object(3)\n",
            "memory usage: 4.1+ MB\n",
            "None\n"
          ]
        }
      ]
    },
    {
      "cell_type": "code",
      "source": [
        "nrow = int(len(df)*0.7)\n",
        "print(nrow)"
      ],
      "metadata": {
        "colab": {
          "base_uri": "https://localhost:8080/"
        },
        "id": "aqZWB5W8k6gC",
        "outputId": "c2afce56-38a5-49bd-b3f0-82cae45024c1"
      },
      "execution_count": 5,
      "outputs": [
        {
          "output_type": "stream",
          "name": "stdout",
          "text": [
            "37758\n"
          ]
        }
      ]
    },
    {
      "cell_type": "code",
      "source": [
        "df_train = df.iloc[:int(len(df)*0.7),:]"
      ],
      "metadata": {
        "id": "_zIllSBfk_BD"
      },
      "execution_count": 6,
      "outputs": []
    },
    {
      "cell_type": "code",
      "source": [
        "str = df_train.sort_values(by='price',ascending = False)"
      ],
      "metadata": {
        "id": "Zzxvg7r7lJrS"
      },
      "execution_count": 7,
      "outputs": []
    },
    {
      "cell_type": "code",
      "source": [
        "df_train_head = str.head(5)"
      ],
      "metadata": {
        "id": "YkotlXJzlQEB"
      },
      "execution_count": 8,
      "outputs": []
    },
    {
      "cell_type": "code",
      "source": [
        "print(df_train_head)"
      ],
      "metadata": {
        "colab": {
          "base_uri": "https://localhost:8080/"
        },
        "id": "vvYNAuj9lVrO",
        "outputId": "eacca4e2-b1e4-4813-c8b1-b9fb2b50a48b"
      },
      "execution_count": 10,
      "outputs": [
        {
          "output_type": "stream",
          "name": "stdout",
          "text": [
            "       carat        cut color clarity  depth  table  price     x     y     z\n",
            "27749   2.29    Premium     I     VS2   60.8   60.0  18823  8.50  8.47  5.16\n",
            "27748   2.00  Very Good     G     SI1   63.5   56.0  18818  7.90  7.97  5.04\n",
            "27747   1.51      Ideal     G      IF   61.7   55.0  18806  7.37  7.41  4.56\n",
            "27746   2.07      Ideal     G     SI2   62.5   55.0  18804  8.20  8.13  5.11\n",
            "27745   2.00  Very Good     H     SI1   62.8   57.0  18803  7.95  8.00  5.01\n"
          ]
        }
      ]
    },
    {
      "cell_type": "code",
      "source": [
        "result_median = np.median(df_train_head['depth'])"
      ],
      "metadata": {
        "id": "kaAUFdF_lYpt"
      },
      "execution_count": 11,
      "outputs": []
    },
    {
      "cell_type": "code",
      "source": [
        "print(int(result_median))"
      ],
      "metadata": {
        "colab": {
          "base_uri": "https://localhost:8080/"
        },
        "id": "yZYTuwIElhOP",
        "outputId": "998336ff-f21e-4676-f8f9-3448930e0f4e"
      },
      "execution_count": 12,
      "outputs": [
        {
          "output_type": "stream",
          "name": "stdout",
          "text": [
            "62\n"
          ]
        }
      ]
    },
    {
      "cell_type": "markdown",
      "source": [
        "1-2"
      ],
      "metadata": {
        "id": "RCsNtKswmmvZ"
      }
    },
    {
      "cell_type": "code",
      "source": [
        "df = pd.read_csv('/content/gdrive/MyDrive/data/M1-2.csv')"
      ],
      "metadata": {
        "id": "D_Q9DsOMlrho"
      },
      "execution_count": 13,
      "outputs": []
    },
    {
      "cell_type": "code",
      "source": [
        "df['TotalCharges'] = pd.to_numeric(df['TotalCharges'],errors='coerce')"
      ],
      "metadata": {
        "id": "ZBmC5drTlyYL"
      },
      "execution_count": 14,
      "outputs": []
    },
    {
      "cell_type": "code",
      "source": [
        "mean = np.nanmean(df['TotalCharges'])\n",
        "sd = np.nanstd(df['TotalCharges'])"
      ],
      "metadata": {
        "id": "DSz_EfstmX03"
      },
      "execution_count": 15,
      "outputs": []
    },
    {
      "cell_type": "code",
      "source": [
        "upper = mean + sd*1.5\n",
        "lower = mean - sd*1.5"
      ],
      "metadata": {
        "id": "fR8PqeTfmg0r"
      },
      "execution_count": 16,
      "outputs": []
    },
    {
      "cell_type": "code",
      "source": [
        "result = df[(df['TotalCharges'] >= lower) & (df['TotalCharges'] <= upper)]"
      ],
      "metadata": {
        "id": "K3sCnWVamlli"
      },
      "execution_count": 17,
      "outputs": []
    },
    {
      "cell_type": "code",
      "source": [
        "summary = result['TotalCharges'].mean()\n",
        "print(int(summary))"
      ],
      "metadata": {
        "colab": {
          "base_uri": "https://localhost:8080/"
        },
        "id": "roy5_jZ-nEqR",
        "outputId": "b6d73d1e-379f-474c-edbc-9ce5b17e7985"
      },
      "execution_count": 19,
      "outputs": [
        {
          "output_type": "stream",
          "name": "stdout",
          "text": [
            "1663\n"
          ]
        }
      ]
    },
    {
      "cell_type": "markdown",
      "source": [
        "1-3"
      ],
      "metadata": {
        "id": "XHYt_HyknOnI"
      }
    },
    {
      "cell_type": "code",
      "source": [
        "df = pd.read_csv('/content/gdrive/MyDrive/data/M1-3.csv')"
      ],
      "metadata": {
        "id": "pCG_pg2NnQE0"
      },
      "execution_count": 20,
      "outputs": []
    },
    {
      "cell_type": "code",
      "source": [
        "df_af1_min = df[df['am']==1].sort_values(by='hp').head(5)"
      ],
      "metadata": {
        "id": "aWvA0WkWnVi3"
      },
      "execution_count": 24,
      "outputs": []
    },
    {
      "cell_type": "code",
      "source": [
        "df_af1_min_mpg = df_af1_min['mpg'].mean()\n",
        "print(df_af1_min_mpg)"
      ],
      "metadata": {
        "colab": {
          "base_uri": "https://localhost:8080/"
        },
        "id": "uziE4XKcoHrv",
        "outputId": "127b8fe4-3c71-4086-db2f-fc0c3932ddca"
      },
      "execution_count": 25,
      "outputs": [
        {
          "output_type": "stream",
          "name": "stdout",
          "text": [
            "30.0\n"
          ]
        }
      ]
    },
    {
      "cell_type": "code",
      "source": [
        "df_af0_min = df[df['am']==0].sort_values(by='hp').head(5)"
      ],
      "metadata": {
        "id": "mvlGMFdUoUUo"
      },
      "execution_count": 26,
      "outputs": []
    },
    {
      "cell_type": "code",
      "source": [
        "df_af0_min_mpg = df_af0_min['mpg'].mean()\n",
        "print(df_af0_min_mpg)"
      ],
      "metadata": {
        "colab": {
          "base_uri": "https://localhost:8080/"
        },
        "id": "rcS_-YbRol5X",
        "outputId": "c996cdd5-fc2c-4839-da9f-f65e2744b328"
      },
      "execution_count": 27,
      "outputs": [
        {
          "output_type": "stream",
          "name": "stdout",
          "text": [
            "21.640000000000004\n"
          ]
        }
      ]
    },
    {
      "cell_type": "code",
      "source": [
        "result = round(df_af1_min_mpg - df_af0_min_mpg,1)\n",
        "print(result)"
      ],
      "metadata": {
        "colab": {
          "base_uri": "https://localhost:8080/"
        },
        "id": "k2DEVERwovaw",
        "outputId": "f943098e-5aaf-4eb4-92f9-186ebb7ba5db"
      },
      "execution_count": 28,
      "outputs": [
        {
          "output_type": "stream",
          "name": "stdout",
          "text": [
            "8.4\n"
          ]
        }
      ]
    }
  ]
}