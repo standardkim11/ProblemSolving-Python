{
  "nbformat": 4,
  "nbformat_minor": 0,
  "metadata": {
    "colab": {
      "provenance": []
    },
    "kernelspec": {
      "name": "python3",
      "display_name": "Python 3"
    },
    "language_info": {
      "name": "python"
    }
  },
  "cells": [
    {
      "cell_type": "markdown",
      "source": [
        "1"
      ],
      "metadata": {
        "id": "KFpv72xvOiWs"
      }
    },
    {
      "cell_type": "code",
      "execution_count": 18,
      "metadata": {
        "colab": {
          "base_uri": "https://localhost:8080/"
        },
        "id": "KguYLYNQMyhE",
        "outputId": "49e02740-2fca-4992-a922-9f61d30d119e"
      },
      "outputs": [
        {
          "output_type": "stream",
          "name": "stdout",
          "text": [
            "Drive already mounted at /content/gdrive; to attempt to forcibly remount, call drive.mount(\"/content/gdrive\", force_remount=True).\n"
          ]
        }
      ],
      "source": [
        "import numpy as np\n",
        "from scipy.stats import chisquare\n",
        "from scipy.stats import f\n",
        "from google.colab import drive\n",
        "\n",
        "drive.mount('/content/gdrive')"
      ]
    },
    {
      "cell_type": "code",
      "source": [
        "df1 = np.array([1,2,3,4,6])\n",
        "print(np.var(df1,ddof=1))"
      ],
      "metadata": {
        "colab": {
          "base_uri": "https://localhost:8080/"
        },
        "id": "5O8zkc_1Ognl",
        "outputId": "95aa51ec-ad30-4988-a958-aca0b6df9874"
      },
      "execution_count": 11,
      "outputs": [
        {
          "output_type": "stream",
          "name": "stdout",
          "text": [
            "3.7\n"
          ]
        }
      ]
    },
    {
      "cell_type": "code",
      "source": [
        "df2 = np.array([4,5,6,7,8])\n",
        "print(np.var(df2,ddof = 1))"
      ],
      "metadata": {
        "colab": {
          "base_uri": "https://localhost:8080/"
        },
        "id": "fYtxFeHaOgkU",
        "outputId": "11528f42-9670-43ba-b11b-62f5b2631bcc"
      },
      "execution_count": 12,
      "outputs": [
        {
          "output_type": "stream",
          "name": "stdout",
          "text": [
            "2.5\n"
          ]
        }
      ]
    },
    {
      "cell_type": "code",
      "source": [
        "def f_test(x,y):\n",
        "    if np.var(x,ddof=1) < np.var(y,ddof=1):\n",
        "        x, y = y,x\n",
        "    f_value = np.var(x,ddof=1) / np.var(y,ddof=1)\n",
        "    x_dof = x.size-1\n",
        "    y_dof = y.size-1\n",
        "\n",
        "    p_value = round((1- f.cdf(f_value,x_dof,y_dof))*2,4)\n",
        "\n",
        "    if p_value < 0.05:\n",
        "        p_result = \"기각\"\n",
        "    else:\n",
        "        p_result = \"채택\"\n",
        "    return f_value, p_value, p_result\n",
        "\n"
      ],
      "metadata": {
        "id": "vsR66hQOOgiQ"
      },
      "execution_count": 19,
      "outputs": []
    },
    {
      "cell_type": "code",
      "source": [
        "aaa = f_test(df1,df2)\n",
        "print(aaa)"
      ],
      "metadata": {
        "colab": {
          "base_uri": "https://localhost:8080/"
        },
        "id": "72No9gW-Oggv",
        "outputId": "ddeba329-4b4b-4794-8b1c-eb60cbbeeb03"
      },
      "execution_count": 20,
      "outputs": [
        {
          "output_type": "stream",
          "name": "stdout",
          "text": [
            "(1.48, 0.7133, '채택')\n"
          ]
        }
      ]
    },
    {
      "cell_type": "markdown",
      "source": [
        "2"
      ],
      "metadata": {
        "id": "5O4EHmupOhEO"
      }
    },
    {
      "cell_type": "code",
      "source": [
        "df = np.array([340,540])"
      ],
      "metadata": {
        "id": "Fqk5QJ0xNsze"
      },
      "execution_count": 3,
      "outputs": []
    },
    {
      "cell_type": "code",
      "source": [
        "ex = np.array([0.35,0.65]) * np.sum(df)"
      ],
      "metadata": {
        "id": "6BqCARPCN0zW"
      },
      "execution_count": 5,
      "outputs": []
    },
    {
      "cell_type": "code",
      "source": [
        "result = chisquare(f_obs = df , f_exp = ex)\n",
        "print(result)"
      ],
      "metadata": {
        "colab": {
          "base_uri": "https://localhost:8080/"
        },
        "id": "cK-diCv6N9e1",
        "outputId": "f2a4c605-d84f-4db3-ee9a-2a822cf7ef33"
      },
      "execution_count": 7,
      "outputs": [
        {
          "output_type": "stream",
          "name": "stdout",
          "text": [
            "Power_divergenceResult(statistic=5.114885114885115, pvalue=0.023721436858355486)\n"
          ]
        }
      ]
    },
    {
      "cell_type": "code",
      "source": [
        "df1 = round(result.statistic, 5)\n",
        "print(df1)"
      ],
      "metadata": {
        "colab": {
          "base_uri": "https://localhost:8080/"
        },
        "id": "Ty1R42LxOEdm",
        "outputId": "1c36c6a3-1e1d-4249-cfa6-bb86e392c9f1"
      },
      "execution_count": 8,
      "outputs": [
        {
          "output_type": "stream",
          "name": "stdout",
          "text": [
            "5.11489\n"
          ]
        }
      ]
    },
    {
      "cell_type": "code",
      "source": [
        "df2 = round(result.pvalue,5)\n",
        "print(df2)"
      ],
      "metadata": {
        "colab": {
          "base_uri": "https://localhost:8080/"
        },
        "id": "hdU4q_71ONpd",
        "outputId": "3b96106a-d616-4717-fb6c-1e58c4af343a"
      },
      "execution_count": 9,
      "outputs": [
        {
          "output_type": "stream",
          "name": "stdout",
          "text": [
            "0.02372\n"
          ]
        }
      ]
    },
    {
      "cell_type": "code",
      "source": [
        "if df2 <0.05 :\n",
        "    num = \"기각\"\n",
        "else :\n",
        "    num = \"채택\"\n",
        "print(num)"
      ],
      "metadata": {
        "colab": {
          "base_uri": "https://localhost:8080/"
        },
        "id": "lGuwpnqHOSSM",
        "outputId": "176ffcfa-abe4-43e7-99f1-fc4ccaf894c6"
      },
      "execution_count": 10,
      "outputs": [
        {
          "output_type": "stream",
          "name": "stdout",
          "text": [
            "기각\n"
          ]
        }
      ]
    }
  ]
}