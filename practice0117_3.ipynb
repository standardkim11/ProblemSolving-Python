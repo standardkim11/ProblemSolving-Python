{
  "nbformat": 4,
  "nbformat_minor": 0,
  "metadata": {
    "colab": {
      "provenance": [],
      "authorship_tag": "ABX9TyMjH35jxouGskHDYZ2h5SB9"
    },
    "kernelspec": {
      "name": "python3",
      "display_name": "Python 3"
    },
    "language_info": {
      "name": "python"
    }
  },
  "cells": [
    {
      "cell_type": "code",
      "execution_count": null,
      "metadata": {
        "colab": {
          "base_uri": "https://localhost:8080/"
        },
        "id": "rQ2qDL-sZSZe",
        "outputId": "cea3f5e0-b659-45d8-bcf3-b20350f56203"
      },
      "outputs": [
        {
          "output_type": "stream",
          "name": "stdout",
          "text": [
            "Mounted at /content/gdrive\n"
          ]
        }
      ],
      "source": [
        "import pandas as pd\n",
        "import numpy as np\n",
        "\n",
        "from google.colab import drive\n",
        "\n",
        "drive.mount('/content/gdrive')"
      ]
    },
    {
      "cell_type": "code",
      "source": [
        "df = pd.read_csv('/content/gdrive/MyDrive/data/P210203.csv')"
      ],
      "metadata": {
        "id": "JG4bh26VZ0Zj"
      },
      "execution_count": null,
      "outputs": []
    },
    {
      "cell_type": "code",
      "source": [
        "upper = np.mean(df['charges']) + 1.5 * np.std(df['charges'])\n",
        "lower = np.mean(df['charges']) - 1.5 * np.std(df['charges'])\n",
        "\n",
        "result = df[(df['charges']>=upper) | (df['charges']<=lower)]['charges'].sum()"
      ],
      "metadata": {
        "id": "e9xAEnSRZ5fj"
      },
      "execution_count": null,
      "outputs": []
    },
    {
      "cell_type": "code",
      "source": [
        "print(int(result))"
      ],
      "metadata": {
        "id": "ruu0vgTCaX3X",
        "outputId": "48c0d99c-c7ae-436e-8b36-d1e263252f3b",
        "colab": {
          "base_uri": "https://localhost:8080/"
        }
      },
      "execution_count": null,
      "outputs": [
        {
          "output_type": "stream",
          "name": "stdout",
          "text": [
            "6421430\n"
          ]
        }
      ]
    }
  ]
}