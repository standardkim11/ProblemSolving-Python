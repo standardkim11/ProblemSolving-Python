{
  "nbformat": 4,
  "nbformat_minor": 0,
  "metadata": {
    "colab": {
      "provenance": []
    },
    "kernelspec": {
      "name": "python3",
      "display_name": "Python 3"
    },
    "language_info": {
      "name": "python"
    }
  },
  "cells": [
    {
      "cell_type": "code",
      "execution_count": null,
      "metadata": {
        "colab": {
          "base_uri": "https://localhost:8080/"
        },
        "id": "2XvGQIeN40Q9",
        "outputId": "20c426a3-3bb3-471f-c8cf-e89d59949465"
      },
      "outputs": [
        {
          "output_type": "stream",
          "name": "stdout",
          "text": [
            "Mounted at /content/gdrive\n"
          ]
        }
      ],
      "source": [
        "import pandas as pd\n",
        "import numpy as np\n",
        "\n",
        "from google.colab import drive\n",
        "\n",
        "drive.mount('/content/gdrive')"
      ]
    },
    {
      "cell_type": "code",
      "source": [
        "df = pd.read_csv('/content/gdrive/MyDrive/data/P220503.csv',encoding = 'euc-kr')"
      ],
      "metadata": {
        "id": "SE4xYsm65rgQ"
      },
      "execution_count": null,
      "outputs": []
    },
    {
      "cell_type": "code",
      "source": [
        "df['순전입학생수'] = df['전입학생수(계)'] - df['전출학생수(계)']\n",
        "df = df.sort_values(by='순전입학생수',ascending=False)\n",
        "\n",
        "print(df['전체학생수(계)'].iloc[0])"
      ],
      "metadata": {
        "colab": {
          "base_uri": "https://localhost:8080/"
        },
        "id": "HpbFcVs06ubK",
        "outputId": "47ede304-478e-48c4-c9ce-0c00afef2239"
      },
      "execution_count": null,
      "outputs": [
        {
          "output_type": "stream",
          "name": "stdout",
          "text": [
            "956\n"
          ]
        }
      ]
    }
  ]
}