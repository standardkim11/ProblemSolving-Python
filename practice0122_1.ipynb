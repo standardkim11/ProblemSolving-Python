{
  "nbformat": 4,
  "nbformat_minor": 0,
  "metadata": {
    "colab": {
      "provenance": []
    },
    "kernelspec": {
      "name": "python3",
      "display_name": "Python 3"
    },
    "language_info": {
      "name": "python"
    }
  },
  "cells": [
    {
      "cell_type": "code",
      "execution_count": null,
      "metadata": {
        "colab": {
          "base_uri": "https://localhost:8080/"
        },
        "id": "BrJPiZXnpfeM",
        "outputId": "1a3f7cc1-ee63-4855-bdf1-1f77027bbf22"
      },
      "outputs": [
        {
          "output_type": "stream",
          "name": "stdout",
          "text": [
            "Mounted at /content/gdrive\n"
          ]
        }
      ],
      "source": [
        "import pandas as pd\n",
        "import numpy as np\n",
        "\n",
        "from google.colab import drive\n",
        "\n",
        "drive.mount('/content/gdrive')"
      ]
    },
    {
      "cell_type": "code",
      "source": [
        "waste = pd.read_csv('/content/gdrive/MyDrive/data/P220501.csv',encoding= \"EUC-KR\")"
      ],
      "metadata": {
        "id": "a8jRBg_hqm53"
      },
      "execution_count": null,
      "outputs": []
    },
    {
      "cell_type": "code",
      "source": [
        "df = waste[(waste['종량제봉투종류'] == '규격봉투') & (waste['종량제봉투용도'] == '음식물쓰레기' ) & (waste['2L가격'] != 0)]"
      ],
      "metadata": {
        "id": "fBx_7F_4qwsC"
      },
      "execution_count": null,
      "outputs": []
    },
    {
      "cell_type": "code",
      "source": [
        "mean_price = df['2L가격'].mean()\n",
        "print(int(mean_price))"
      ],
      "metadata": {
        "colab": {
          "base_uri": "https://localhost:8080/"
        },
        "id": "Ehs4XVi7r4r4",
        "outputId": "961c938a-6b0d-42ec-e3b9-038db9cd18c6"
      },
      "execution_count": null,
      "outputs": [
        {
          "output_type": "stream",
          "name": "stdout",
          "text": [
            "120\n"
          ]
        }
      ]
    }
  ]
}