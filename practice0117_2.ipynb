{
  "nbformat": 4,
  "nbformat_minor": 0,
  "metadata": {
    "colab": {
      "provenance": [],
      "authorship_tag": "ABX9TyPgdIEpjJCX5KzIvMz7y9z5"
    },
    "kernelspec": {
      "name": "python3",
      "display_name": "Python 3"
    },
    "language_info": {
      "name": "python"
    }
  },
  "cells": [
    {
      "cell_type": "code",
      "execution_count": null,
      "metadata": {
        "colab": {
          "base_uri": "https://localhost:8080/"
        },
        "id": "n5kRX6TTHDFy",
        "outputId": "9e16244e-a940-4e56-a274-328310f76120"
      },
      "outputs": [
        {
          "output_type": "stream",
          "name": "stdout",
          "text": [
            "Mounted at /content/gdrive\n"
          ]
        }
      ],
      "source": [
        "import pandas as pd\n",
        "import numpy as np\n",
        "\n",
        "from google.colab import drive\n",
        "\n",
        "drive.mount('/content/gdrive')"
      ]
    },
    {
      "cell_type": "code",
      "source": [
        "housing = pd.read_csv('/content/gdrive/MyDrive/data/P210202.csv')"
      ],
      "metadata": {
        "id": "j_XtsuIuHZHI"
      },
      "execution_count": null,
      "outputs": []
    },
    {
      "cell_type": "code",
      "source": [
        "df = housing.iloc[:int(len(housing)*0.8),:]\n",
        "df = pd.DataFrame(df)\n",
        "a = df['total_bedrooms'].std()\n",
        "median_train = df['total_bedrooms'].median()\n",
        "df['total_bedrooms'] = df['total_bedrooms'].fillna(median_train)\n",
        "b = df['total_bedrooms'].std()\n",
        "print(round(abs(np.abs(a-b)),2))"
      ],
      "metadata": {
        "colab": {
          "base_uri": "https://localhost:8080/"
        },
        "id": "vpA4B9n1HcpK",
        "outputId": "dfbcd4c2-cfde-4900-a3bb-7db7a1e65ece"
      },
      "execution_count": null,
      "outputs": [
        {
          "output_type": "stream",
          "name": "stdout",
          "text": [
            "1.98\n"
          ]
        }
      ]
    }
  ]
}