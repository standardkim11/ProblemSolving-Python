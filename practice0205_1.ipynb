{
  "nbformat": 4,
  "nbformat_minor": 0,
  "metadata": {
    "colab": {
      "provenance": []
    },
    "kernelspec": {
      "name": "python3",
      "display_name": "Python 3"
    },
    "language_info": {
      "name": "python"
    }
  },
  "cells": [
    {
      "cell_type": "markdown",
      "source": [
        "1"
      ],
      "metadata": {
        "id": "l64CYjo06vBG"
      }
    },
    {
      "cell_type": "code",
      "execution_count": 1,
      "metadata": {
        "colab": {
          "base_uri": "https://localhost:8080/"
        },
        "id": "VZHDv8tM02aT",
        "outputId": "f3a1174d-f134-4088-d94c-30a3618f30b3"
      },
      "outputs": [
        {
          "output_type": "stream",
          "name": "stdout",
          "text": [
            "Mounted at /content/gdrive\n"
          ]
        }
      ],
      "source": [
        "import pandas as pd\n",
        "import numpy as np\n",
        "\n",
        "from google.colab import drive\n",
        "\n",
        "drive.mount('/content/gdrive')"
      ]
    },
    {
      "cell_type": "code",
      "source": [
        "df = pd.read_csv('/content/gdrive/MyDrive/data/M2-1.csv')"
      ],
      "metadata": {
        "id": "d5GQktIY4AEg"
      },
      "execution_count": 2,
      "outputs": []
    },
    {
      "cell_type": "code",
      "source": [
        "train = df.iloc[:int(len(df)*0.7),:]"
      ],
      "metadata": {
        "id": "17okAfrR4E1A"
      },
      "execution_count": 4,
      "outputs": []
    },
    {
      "cell_type": "code",
      "source": [
        "train_mean = round(np.nanmean(train['Ozone']),1)\n",
        "print(train_mean)"
      ],
      "metadata": {
        "colab": {
          "base_uri": "https://localhost:8080/"
        },
        "id": "amt8payG4RFs",
        "outputId": "6a72216b-7d8b-4b55-909c-a3c40f5ce1b1"
      },
      "execution_count": 5,
      "outputs": [
        {
          "output_type": "stream",
          "name": "stdout",
          "text": [
            "42.7\n"
          ]
        }
      ]
    },
    {
      "cell_type": "code",
      "source": [
        "median_before = round(np.nanmedian(train['Ozone']),1)\n",
        "print(median_before)"
      ],
      "metadata": {
        "colab": {
          "base_uri": "https://localhost:8080/"
        },
        "id": "B2OsOiXY4e14",
        "outputId": "e4c2e275-6d6b-4dc0-a971-09dd95541fff"
      },
      "execution_count": 8,
      "outputs": [
        {
          "output_type": "stream",
          "name": "stdout",
          "text": [
            "35.0\n"
          ]
        }
      ]
    },
    {
      "cell_type": "code",
      "source": [
        "train.loc[train['Ozone'].isna(),'Ozone'] = train_mean"
      ],
      "metadata": {
        "id": "NSB5Tjuf6VJm"
      },
      "execution_count": 9,
      "outputs": []
    },
    {
      "cell_type": "code",
      "source": [
        "median_after = round(np.nanmedian(train['Ozone']),1)\n",
        "print(median_after)"
      ],
      "metadata": {
        "colab": {
          "base_uri": "https://localhost:8080/"
        },
        "id": "ep7iK4ho6p8t",
        "outputId": "d87759ba-5e36-450c-fff1-30f7b9eb1145"
      },
      "execution_count": 12,
      "outputs": [
        {
          "output_type": "stream",
          "name": "stdout",
          "text": [
            "42.7\n"
          ]
        }
      ]
    },
    {
      "cell_type": "code",
      "source": [
        "diff_median = abs(round(median_before - median_after,1))\n",
        "print(diff_median)"
      ],
      "metadata": {
        "colab": {
          "base_uri": "https://localhost:8080/"
        },
        "id": "TBbPhpA36-vq",
        "outputId": "562cce42-0a5c-45d4-d599-177006cfcae4"
      },
      "execution_count": 13,
      "outputs": [
        {
          "output_type": "stream",
          "name": "stdout",
          "text": [
            "7.7\n"
          ]
        }
      ]
    },
    {
      "cell_type": "markdown",
      "source": [
        "2"
      ],
      "metadata": {
        "id": "dFzMV0cI7KZR"
      }
    },
    {
      "cell_type": "code",
      "source": [
        "df = pd.read_csv('/content/gdrive/MyDrive/data/M2-2.csv',encoding = 'euc-kr')"
      ],
      "metadata": {
        "id": "h8YKSh8v7L3C"
      },
      "execution_count": 14,
      "outputs": []
    },
    {
      "cell_type": "code",
      "source": [
        "train = df.loc[(~df['HAIR'].isna())&  (~df['EYE'].isna())]"
      ],
      "metadata": {
        "id": "48tiE-Qm7TUb"
      },
      "execution_count": 17,
      "outputs": []
    },
    {
      "cell_type": "code",
      "source": [
        "train = train.loc[(train['HAIR']== 'White Hair') & (train['EYE'] == 'Blue Eyes')]"
      ],
      "metadata": {
        "id": "WAUJ78YtCJqX"
      },
      "execution_count": 18,
      "outputs": []
    },
    {
      "cell_type": "code",
      "source": [
        "s = sum(train['APPEARANCES'].isna())\n",
        "print(s)"
      ],
      "metadata": {
        "colab": {
          "base_uri": "https://localhost:8080/"
        },
        "id": "MkSD1Xk-CVdC",
        "outputId": "d0cf6572-6e07-4772-8eb1-1e9f8963907c"
      },
      "execution_count": 19,
      "outputs": [
        {
          "output_type": "stream",
          "name": "stdout",
          "text": [
            "15\n"
          ]
        }
      ]
    },
    {
      "cell_type": "code",
      "source": [
        "o_mean = round(train['APPEARANCES'].mean(skipna=True),2)\n",
        "print(o_mean)"
      ],
      "metadata": {
        "colab": {
          "base_uri": "https://localhost:8080/"
        },
        "id": "NvI_w9SICzUw",
        "outputId": "b51edfb8-8428-4cc8-f0fd-3db79ae4784e"
      },
      "execution_count": 20,
      "outputs": [
        {
          "output_type": "stream",
          "name": "stdout",
          "text": [
            "76.25\n"
          ]
        }
      ]
    },
    {
      "cell_type": "code",
      "source": [
        "o_sd = round(train['APPEARANCES'].std(skipna=True),2)\n",
        "print(o_sd)"
      ],
      "metadata": {
        "colab": {
          "base_uri": "https://localhost:8080/"
        },
        "id": "KrANSUYZC72Y",
        "outputId": "c7ddc101-c330-49da-ab31-ac4726548d4f"
      },
      "execution_count": 21,
      "outputs": [
        {
          "output_type": "stream",
          "name": "stdout",
          "text": [
            "348.29\n"
          ]
        }
      ]
    },
    {
      "cell_type": "code",
      "source": [
        "upper = o_mean +1.5*o_sd\n",
        "lower = o_mean -1.5*o_sd"
      ],
      "metadata": {
        "id": "9UIQ6IdBDlPc"
      },
      "execution_count": 22,
      "outputs": []
    },
    {
      "cell_type": "code",
      "source": [
        "v_mean = train.loc[(train['APPEARANCES']>= lower) & (train['APPEARANCES'] <= upper)]\n",
        "v_mean = v_mean['APPEARANCES'].mean()"
      ],
      "metadata": {
        "id": "vSEdmAiBDr__"
      },
      "execution_count": 23,
      "outputs": []
    },
    {
      "cell_type": "code",
      "source": [
        "print(round(v_mean,2))"
      ],
      "metadata": {
        "colab": {
          "base_uri": "https://localhost:8080/"
        },
        "id": "uN5ReHyZD-JE",
        "outputId": "e472189e-4016-48af-96bc-adb372aa1437"
      },
      "execution_count": 24,
      "outputs": [
        {
          "output_type": "stream",
          "name": "stdout",
          "text": [
            "30.15\n"
          ]
        }
      ]
    },
    {
      "cell_type": "markdown",
      "source": [
        "3"
      ],
      "metadata": {
        "id": "ion-t8DNEXL9"
      }
    },
    {
      "cell_type": "code",
      "source": [
        "df = pd.read_csv('/content/gdrive/MyDrive/data/M2-3.csv')"
      ],
      "metadata": {
        "id": "yVvQSb4REX1J"
      },
      "execution_count": 25,
      "outputs": []
    },
    {
      "cell_type": "code",
      "source": [
        "max_sales = np.mean(df['Sales']) + 1.5 * np.std(df['Sales'])\n",
        "min_sales = np.mean(df['Sales']) - 1.5 * np.std(df['Sales'])"
      ],
      "metadata": {
        "id": "xaLv06npEnMJ"
      },
      "execution_count": 27,
      "outputs": []
    },
    {
      "cell_type": "code",
      "source": [
        "max = df['Sales'] <= max_sales\n",
        "min = df['Sales'] >= min_sales"
      ],
      "metadata": {
        "id": "400rWDSZE5gu"
      },
      "execution_count": 28,
      "outputs": []
    },
    {
      "cell_type": "code",
      "source": [
        "df2 = df[max & min]"
      ],
      "metadata": {
        "id": "AYxiDkDPFEZF"
      },
      "execution_count": 29,
      "outputs": []
    },
    {
      "cell_type": "code",
      "source": [
        "sd_age = np.std(df2['Age'], ddof=1)"
      ],
      "metadata": {
        "id": "kj18XpOoFIBp"
      },
      "execution_count": 30,
      "outputs": []
    },
    {
      "cell_type": "code",
      "source": [
        "result = round(sd_age,2)\n",
        "print(result)"
      ],
      "metadata": {
        "colab": {
          "base_uri": "https://localhost:8080/"
        },
        "id": "aVEPFhYYFNvt",
        "outputId": "d5b82d09-f14c-4512-d0c7-64ed50c5d469"
      },
      "execution_count": 31,
      "outputs": [
        {
          "output_type": "stream",
          "name": "stdout",
          "text": [
            "16.05\n"
          ]
        }
      ]
    }
  ]
}