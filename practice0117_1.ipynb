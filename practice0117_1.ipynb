{
  "nbformat": 4,
  "nbformat_minor": 0,
  "metadata": {
    "colab": {
      "private_outputs": true,
      "provenance": [],
      "authorship_tag": "ABX9TyPbQLp56hVDKhUOKupX60SE"
    },
    "kernelspec": {
      "name": "python3",
      "display_name": "Python 3"
    },
    "language_info": {
      "name": "python"
    }
  },
  "cells": [
    {
      "cell_type": "code",
      "execution_count": null,
      "metadata": {
        "id": "6IfzHQXhiE4T"
      },
      "outputs": [],
      "source": [
        "import pandas as pd\n",
        "import numpy as np\n",
        "\n",
        "from google.colab import drive\n",
        "\n",
        "drive.mount('/content/gdrive')\n",
        "\n"
      ]
    },
    {
      "cell_type": "code",
      "source": [
        "df = pd.read_csv('/content/gdrive/MyDrive/data/P210201.csv')\n",
        "\n",
        "top10 = df['crim'].sort_values(ascending=False).head(10)\n",
        "print(top10)"
      ],
      "metadata": {
        "id": "10T25gWly9ER"
      },
      "execution_count": null,
      "outputs": []
    },
    {
      "cell_type": "code",
      "source": [
        "tenth = top10.iloc[9]\n",
        "df['crim'] = np.where(df['crim'] >= tenth, tenth, df['crim'])\n"
      ],
      "metadata": {
        "id": "p7wQRYyx0tGb"
      },
      "execution_count": null,
      "outputs": []
    },
    {
      "cell_type": "code",
      "source": [
        "over80 = df[df['age']>=80]\n",
        "print(over80['age'].describe())\n",
        "\n",
        "print(round(over80['crim'].mean(),2))"
      ],
      "metadata": {
        "id": "xTQyaR1U3DkC"
      },
      "execution_count": null,
      "outputs": []
    }
  ]
}