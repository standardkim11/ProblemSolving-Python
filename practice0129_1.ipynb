{
  "nbformat": 4,
  "nbformat_minor": 0,
  "metadata": {
    "colab": {
      "provenance": []
    },
    "kernelspec": {
      "name": "python3",
      "display_name": "Python 3"
    },
    "language_info": {
      "name": "python"
    }
  },
  "cells": [
    {
      "cell_type": "code",
      "execution_count": null,
      "metadata": {
        "id": "CzDDX_DXwC8i"
      },
      "outputs": [],
      "source": [
        "import pandas as pd\n",
        "from scipy.stats import chisquare"
      ]
    },
    {
      "cell_type": "code",
      "source": [
        "from google.colab import drive\n",
        "\n",
        "drive.mount('/content/gdrive')"
      ],
      "metadata": {
        "colab": {
          "base_uri": "https://localhost:8080/"
        },
        "id": "mfcPD3KwwVPf",
        "outputId": "ff4ebde2-b076-4424-eea1-3b2c3a3d7598"
      },
      "execution_count": null,
      "outputs": [
        {
          "output_type": "stream",
          "name": "stdout",
          "text": [
            "Mounted at /content/gdrive\n"
          ]
        }
      ]
    },
    {
      "cell_type": "code",
      "source": [
        "df = pd.read_csv('/content/gdrive/MyDrive/data/P230605.csv',encoding = 'euc-kr')"
      ],
      "metadata": {
        "id": "spugBzhawfs_"
      },
      "execution_count": null,
      "outputs": []
    },
    {
      "cell_type": "code",
      "source": [
        "data1 = df.groupby('코드').size().reset_index(name = '건수')"
      ],
      "metadata": {
        "id": "4CNcJEyUwvtn"
      },
      "execution_count": null,
      "outputs": []
    },
    {
      "cell_type": "code",
      "source": [
        "cnt = len(df)"
      ],
      "metadata": {
        "id": "mt9vayYyxB2D"
      },
      "execution_count": null,
      "outputs": []
    },
    {
      "cell_type": "code",
      "source": [
        "data1['비율'] = data1['건수'] / cnt"
      ],
      "metadata": {
        "id": "8L35x0eAxFSF"
      },
      "execution_count": null,
      "outputs": []
    },
    {
      "cell_type": "code",
      "source": [
        "result = round(data1['비율'][3],3)\n",
        "print(result)"
      ],
      "metadata": {
        "colab": {
          "base_uri": "https://localhost:8080/"
        },
        "id": "gj-UbxXpxl2f",
        "outputId": "4cd9f54d-68b3-476c-86e1-140428cce4a9"
      },
      "execution_count": null,
      "outputs": [
        {
          "output_type": "stream",
          "name": "stdout",
          "text": [
            "0.787\n"
          ]
        }
      ]
    },
    {
      "cell_type": "code",
      "source": [
        "data_rate = pd.DataFrame({\"코드\":[1,2,3,4], \"비율\":[0.05,0.1,0.05,0.8]})"
      ],
      "metadata": {
        "id": "1LgVWAtJxvU8"
      },
      "execution_count": null,
      "outputs": []
    },
    {
      "cell_type": "code",
      "source": [
        "chisq = chisquare(data1['건수'], f_exp = data_rate['비율']*cnt)"
      ],
      "metadata": {
        "id": "QMq0c3Dzyel0"
      },
      "execution_count": null,
      "outputs": []
    },
    {
      "cell_type": "code",
      "source": [
        "print(chisq)"
      ],
      "metadata": {
        "colab": {
          "base_uri": "https://localhost:8080/"
        },
        "id": "YskCDMv3ytxh",
        "outputId": "d56e5d70-01dc-4502-8294-74ef3f1d481b"
      },
      "execution_count": null,
      "outputs": [
        {
          "output_type": "stream",
          "name": "stdout",
          "text": [
            "Power_divergenceResult(statistic=0.9970355731225298, pvalue=0.801969260894451)\n"
          ]
        }
      ]
    },
    {
      "cell_type": "code",
      "source": [
        "result2 = round(chisq.statistic,3)"
      ],
      "metadata": {
        "id": "wyMuzdr6y1Dq"
      },
      "execution_count": null,
      "outputs": []
    },
    {
      "cell_type": "code",
      "source": [
        "print(result2)"
      ],
      "metadata": {
        "colab": {
          "base_uri": "https://localhost:8080/"
        },
        "id": "PIb_dIKMy-xf",
        "outputId": "5351ccb7-afb9-43e0-e2a3-39dd8fab14af"
      },
      "execution_count": null,
      "outputs": [
        {
          "output_type": "stream",
          "name": "stdout",
          "text": [
            "0.997\n"
          ]
        }
      ]
    },
    {
      "cell_type": "code",
      "source": [
        "result3 = round(chisq.pvalue,3)"
      ],
      "metadata": {
        "id": "0K_Xs8AhzBjP"
      },
      "execution_count": null,
      "outputs": []
    },
    {
      "cell_type": "code",
      "source": [
        "print(result3)"
      ],
      "metadata": {
        "colab": {
          "base_uri": "https://localhost:8080/"
        },
        "id": "225W4e2XzHDN",
        "outputId": "5486c7f9-766f-4a6a-8d4b-bc5bb4460583"
      },
      "execution_count": null,
      "outputs": [
        {
          "output_type": "stream",
          "name": "stdout",
          "text": [
            "0.802\n"
          ]
        }
      ]
    }
  ]
}