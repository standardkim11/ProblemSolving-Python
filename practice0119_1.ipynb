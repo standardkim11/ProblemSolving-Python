{
  "nbformat": 4,
  "nbformat_minor": 0,
  "metadata": {
    "colab": {
      "provenance": []
    },
    "kernelspec": {
      "name": "python3",
      "display_name": "Python 3"
    },
    "language_info": {
      "name": "python"
    }
  },
  "cells": [
    {
      "cell_type": "code",
      "execution_count": null,
      "metadata": {
        "colab": {
          "base_uri": "https://localhost:8080/"
        },
        "id": "jjMBowDYveXT",
        "outputId": "fe128dd1-e0d6-4372-d20b-2dcc70e09bba"
      },
      "outputs": [
        {
          "output_type": "stream",
          "name": "stdout",
          "text": [
            "Drive already mounted at /content/gdrive; to attempt to forcibly remount, call drive.mount(\"/content/gdrive\", force_remount=True).\n"
          ]
        }
      ],
      "source": [
        "import pandas as pd\n",
        "import numpy as np\n",
        "\n",
        "from google.colab import drive\n",
        "\n",
        "drive.mount('/content/gdrive')"
      ]
    },
    {
      "cell_type": "code",
      "source": [
        "who = pd.read_csv('/content/gdrive/MyDrive/data/P210303.csv')"
      ],
      "metadata": {
        "id": "3TPms3RTxhDz"
      },
      "execution_count": null,
      "outputs": []
    },
    {
      "cell_type": "code",
      "source": [
        "who = who[[\"year\",\"country\",\"new_sp\"]]\n",
        "who = who.dropna()"
      ],
      "metadata": {
        "id": "-uYodek2x92w"
      },
      "execution_count": null,
      "outputs": []
    },
    {
      "cell_type": "code",
      "source": [
        "who2000 = who[who[\"year\"]== 2000]"
      ],
      "metadata": {
        "id": "0LzPKVL3yMWM"
      },
      "execution_count": null,
      "outputs": []
    },
    {
      "cell_type": "code",
      "source": [
        "mean_cnt = np.mean(who2000[\"new_sp\"])\n",
        "print(round(mean_cnt,2))"
      ],
      "metadata": {
        "colab": {
          "base_uri": "https://localhost:8080/"
        },
        "id": "4DCPCVfiyQrU",
        "outputId": "5e85899e-56ad-401e-8de4-96e3d1f4a863"
      },
      "execution_count": null,
      "outputs": [
        {
          "output_type": "stream",
          "name": "stdout",
          "text": [
            "7865.34\n"
          ]
        }
      ]
    },
    {
      "cell_type": "code",
      "source": [
        "country = who2000[who2000[\"new_sp\"] >= mean_cnt]\n",
        "print(len(country))"
      ],
      "metadata": {
        "colab": {
          "base_uri": "https://localhost:8080/"
        },
        "id": "XM_AtwJSy0N6",
        "outputId": "12544664-fb21-44fa-81bd-2593d8f7f462"
      },
      "execution_count": null,
      "outputs": [
        {
          "output_type": "stream",
          "name": "stdout",
          "text": [
            "38\n"
          ]
        }
      ]
    }
  ]
}